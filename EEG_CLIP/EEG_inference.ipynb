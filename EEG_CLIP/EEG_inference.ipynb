{
 "cells": [
  {
   "cell_type": "code",
   "execution_count": 10,
   "id": "076d8fdb-3421-4dd3-ba94-0ab4433d1e57",
   "metadata": {},
   "outputs": [],
   "source": [
    "import torch\n",
    "import torch.nn.functional as F\n",
    "from utils import seed_everything, load_config\n",
    "from models import EEGEncoder, EEGAE\n",
    "from dataset import get_eeg_loader\n",
    "from glob import glob\n",
    "import matplotlib.pyplot as plt\n",
    "import seaborn as sns\n",
    "import numpy as np"
   ]
  },
  {
   "cell_type": "code",
   "execution_count": 2,
   "id": "43e4afe7-19a2-40c5-a8a1-78057d4e7738",
   "metadata": {},
   "outputs": [],
   "source": [
    "config = load_config(\"./configs/EEG_trainer.yaml\")\n",
    "data_config = config[\"data\"]\n",
    "eeg_config = config[\"EEG\"]\n",
    "train_config = config[\"train\"]\n",
    "seed_everything(42) #42"
   ]
  },
  {
   "cell_type": "code",
   "execution_count": 4,
   "id": "ed1932b0-9dcf-482c-aa9e-650e1f339899",
   "metadata": {},
   "outputs": [],
   "source": [
    "eeg_list = sorted(glob(\"./data/split_eeg/*/*.csv\"))\n",
    "eeg_loader = get_eeg_loader(eeg_list, 16, False)"
   ]
  },
  {
   "cell_type": "code",
   "execution_count": 6,
   "id": "48e5ee61-6cd9-4343-9e00-076fb94dbf55",
   "metadata": {},
   "outputs": [
    {
     "data": {
      "text/plain": [
       "<All keys matched successfully>"
      ]
     },
     "execution_count": 6,
     "metadata": {},
     "output_type": "execute_result"
    }
   ],
   "source": [
    "eeg_ae = EEGAE(eeg_config)\n",
    "eeg_ae.load_state_dict(torch.load(\"./ckpt_temp/EEG_AE/epoch_300.pt\"))"
   ]
  },
  {
   "cell_type": "code",
   "execution_count": 7,
   "id": "ba410af8",
   "metadata": {},
   "outputs": [
    {
     "data": {
      "text/plain": [
       "EEGAE(\n",
       "  (encoder): EEGEncoder(\n",
       "    (shallow_net): ShallowEncoderNet(\n",
       "      (temporal_conv): Conv2d(1, 40, kernel_size=(1, 25), stride=(1, 1))\n",
       "      (spatial_conv): Conv2d(40, 40, kernel_size=(60, 1), stride=(1, 1))\n",
       "      (bn): BatchNorm2d(40, eps=1e-05, momentum=0.1, affine=True, track_running_stats=True)\n",
       "      (elu): ELU(alpha=1.0)\n",
       "      (avgpool): AvgPool2d(kernel_size=(1, 25), stride=(1, 5), padding=0)\n",
       "      (dr): Dropout(p=0.5, inplace=False)\n",
       "      (enhance_conv): Conv2d(40, 40, kernel_size=(1, 1), stride=(1, 1))\n",
       "    )\n",
       "    (trns_enc_blk): TransformerEncoderBlock(\n",
       "      (multi_head_attention): MultiheadAttention(\n",
       "        (out_proj): NonDynamicallyQuantizableLinear(in_features=40, out_features=40, bias=True)\n",
       "      )\n",
       "      (feed_foward): Sequential(\n",
       "        (0): Linear(in_features=40, out_features=160, bias=True)\n",
       "        (1): GELU(approximate='none')\n",
       "        (2): Dropout(p=0.5, inplace=False)\n",
       "        (3): Linear(in_features=160, out_features=40, bias=True)\n",
       "      )\n",
       "      (norm): LayerNorm((40,), eps=1e-05, elementwise_affine=True)\n",
       "      (drop): Dropout(p=0.5, inplace=False)\n",
       "    )\n",
       "    (projection): Linear(in_features=640, out_features=100, bias=True)\n",
       "    (relu): ReLU()\n",
       "    (flatten): Flatten(start_dim=1, end_dim=-1)\n",
       "  )\n",
       "  (decoder): EEGDecoder(\n",
       "    (shallow_net): ShallowDecoderNet(\n",
       "      (temporal_conv): ConvTranspose2d(40, 1, kernel_size=(1, 25), stride=(1, 1))\n",
       "      (spatial_conv): ConvTranspose2d(40, 40, kernel_size=(60, 1), stride=(1, 1))\n",
       "      (bn): BatchNorm2d(40, eps=1e-05, momentum=0.1, affine=True, track_running_stats=True)\n",
       "      (elu): ELU(alpha=1.0)\n",
       "      (upsample): Upsample(size=(1, 104), mode='nearest')\n",
       "      (dr): Dropout(p=0.5, inplace=False)\n",
       "      (enhance_conv): Conv2d(40, 40, kernel_size=(1, 1), stride=(1, 1))\n",
       "    )\n",
       "    (projection): Linear(in_features=100, out_features=640, bias=True)\n",
       "    (relu): ReLU()\n",
       "  )\n",
       ")"
      ]
     },
     "execution_count": 7,
     "metadata": {},
     "output_type": "execute_result"
    }
   ],
   "source": [
    "eeg_ae.eval()"
   ]
  },
  {
   "cell_type": "code",
   "execution_count": 9,
   "id": "ce6ce401",
   "metadata": {},
   "outputs": [],
   "source": [
    "eeg = next(iter(eeg_loader))\n",
    "\n",
    "eeg = eeg.float()"
   ]
  },
  {
   "cell_type": "code",
   "execution_count": 16,
   "id": "f10ae284-980a-4919-9a1e-7e7ff922c858",
   "metadata": {},
   "outputs": [
    {
     "name": "stdout",
     "output_type": "stream",
     "text": [
      "0.4126677\n"
     ]
    }
   ],
   "source": [
    "recon_eeg = eeg_ae(eeg)\n",
    "recon_eeg = recon_eeg.detach().numpy()\n",
    "print(np.mean(np.abs(recon_eeg - np.array(eeg))))"
   ]
  }
 ],
 "metadata": {
  "kernelspec": {
   "display_name": "Python 3 (ipykernel)",
   "language": "python",
   "name": "python3"
  },
  "language_info": {
   "codemirror_mode": {
    "name": "ipython",
    "version": 3
   },
   "file_extension": ".py",
   "mimetype": "text/x-python",
   "name": "python",
   "nbconvert_exporter": "python",
   "pygments_lexer": "ipython3",
   "version": "3.9.0"
  }
 },
 "nbformat": 4,
 "nbformat_minor": 5
}
